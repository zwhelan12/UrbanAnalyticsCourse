{
 "cells": [
  {
   "cell_type": "raw",
   "metadata": {},
   "source": [
    "---\n",
    "title: \"Data Viz 1: Charts and Graphs\"\n",
    "output: html_document\n",
    "---"
   ]
  },
  {
   "cell_type": "markdown",
   "metadata": {},
   "source": [
    "## Assignment Objectives\n",
    "\n",
    "By the end of this practical lab you will be able to:\n",
    "\n",
    "* Make basic plots in R\n",
    "* Implement common graph types using the functions of the ggplot2 package\n",
    "* Build interactive graphics using the Plot.ly library\n",
    "\n",
    "## Basic Plotting in Base R\n",
    "Base R has functionality that enables the creation of graphics, and although flexible, it is also very common for static graphics to be created using the very popular [ggplot2](http://ggplot2.org/) package. In this practical we will introduce base R functions, ggplot2 and also Plot.ly as a method by which interactive graphics can be created.\n",
    "\n",
    "First we will read in some 2011 census data for the UK that we will used for the practical."
   ]
  },
  {
   "cell_type": "code",
   "execution_count": null,
   "metadata": {},
   "outputs": [],
   "source": [
    "census <- read.csv(\"./data/census_small.csv\")"
   ]
  },
  {
   "cell_type": "markdown",
   "metadata": {},
   "source": [
    "This should look as follows..."
   ]
  },
  {
   "cell_type": "code",
   "execution_count": null,
   "metadata": {},
   "outputs": [],
   "source": [
    "head(census)"
   ]
  },
  {
   "cell_type": "markdown",
   "metadata": {},
   "source": [
    "As we showed in an earlier practical (4. Descriptive Statistics), we can provide a summary of the attributes using the summary() function:"
   ]
  },
  {
   "cell_type": "code",
   "execution_count": null,
   "metadata": {},
   "outputs": [],
   "source": [
    "summary(census)"
   ]
  },
  {
   "cell_type": "markdown",
   "metadata": {},
   "source": [
    "However, it is also useful to graphically present the distributions. We can create a histogram using the hist() function, with additional options to specify the labels and color (these use [hex values](http://www.color-hex.com/))."
   ]
  },
  {
   "cell_type": "code",
   "execution_count": null,
   "metadata": {},
   "outputs": [],
   "source": [
    "#Historgram\n",
    "hist(census$PCT_Good_Health, col=\"#00bfff\", xlab=\"Percent\", main=\"Histogram\") "
   ]
  },
  {
   "cell_type": "markdown",
   "metadata": {},
   "source": [
    "We might also be interested in the relationship between two variables. In the following plot, we show how the proportion of people who identify themselves as in good health within an area relate to the proportion of people who are living within socially rented housing."
   ]
  },
  {
   "cell_type": "code",
   "execution_count": null,
   "metadata": {},
   "outputs": [],
   "source": [
    "plot(census$PCT_Good_Health,census$PCT_Social_Rented_Households,cex=.7,main=\"Good Health and Social Housing\", xlab=\"% Good Health\",ylab=\"% Social Housing\",col=\"#00bfff\",pch=19)"
   ]
  },
  {
   "cell_type": "markdown",
   "metadata": {},
   "source": [
    "As was shown in a previous practical (see 4. Descriptive statistics), a mean can be calculated as follows:"
   ]
  },
  {
   "cell_type": "code",
   "execution_count": null,
   "metadata": {},
   "outputs": [],
   "source": [
    "mean(census$PCT_Good_Health)"
   ]
  },
  {
   "cell_type": "markdown",
   "metadata": {},
   "source": [
    "We can then use this to test each of numbers contained in the \"PCT_Good_Health\" column."
   ]
  },
  {
   "cell_type": "code",
   "execution_count": null,
   "metadata": {},
   "outputs": [],
   "source": [
    "census$PCT_Good_Health < mean(census$PCT_Good_Health)"
   ]
  },
  {
   "cell_type": "markdown",
   "metadata": {},
   "source": [
    "Which returns some TRUE and some FALSE values. We can then combine this with an ifelse() function to create a new variable called \"target\". The ifelse() returns (rather than TRUE and FALSE) a value specified by the latter two parameters of the function. In this case, these are the strings \"Yes\" and \"No\"."
   ]
  },
  {
   "cell_type": "code",
   "execution_count": null,
   "metadata": {},
   "outputs": [],
   "source": [
    "# Calculate a target for PCT in good health\n",
    "census$target <- ifelse(census$PCT_Good_Health < mean(census$PCT_Good_Health),\"Yes\",\"No\")\n",
    "# Calculate a target for PCT social housing\n",
    "census$target2 <- ifelse(census$PCT_Social_Rented_Households < mean(census$PCT_Social_Rented_Households),\"Yes\",\"No\")\n"
   ]
  },
  {
   "cell_type": "markdown",
   "metadata": {},
   "source": [
    "You will now see that these values have been added as a new variable in the data frame object:"
   ]
  },
  {
   "cell_type": "code",
   "execution_count": null,
   "metadata": {},
   "outputs": [],
   "source": [
    "head(census)"
   ]
  },
  {
   "cell_type": "markdown",
   "metadata": {},
   "source": [
    "A basic bar chart showing the frequency of zones within each category can be generated as follows:"
   ]
  },
  {
   "cell_type": "code",
   "execution_count": null,
   "metadata": {},
   "outputs": [],
   "source": [
    "#Create a table of the results\n",
    "counts <- table(census$target)\n",
    "\n",
    "barplot(counts, main=\"Target Distribution\", xlab=\"Target\",col=\"#00bfff\")"
   ]
  },
  {
   "cell_type": "markdown",
   "metadata": {},
   "source": [
    "You can also created stacked and side by side bar charts:"
   ]
  },
  {
   "cell_type": "code",
   "execution_count": null,
   "metadata": {},
   "outputs": [],
   "source": [
    "#Create a table of the results\n",
    "counts <- table(census$target, census$target2)\n",
    "\n",
    "#Create stacked bar chart\n",
    "barplot(counts, main=\"Target Distribution\", xlab=\"Target\",col=c(\"#00bfff\",\"#00cc66\"),legend = rownames(counts))\n",
    "\n",
    "#Create side by side bar chart\n",
    "barplot(counts, main=\"Target Distribution\", xlab=\"Target\",col=c(\"#00bfff\",\"#00cc66\"),legend = rownames(counts),beside=TRUE)\n"
   ]
  },
  {
   "cell_type": "markdown",
   "metadata": {},
   "source": [
    "We will now read in another dataset that shows the population of different racial groups within [New York City between 1970 and 2010](https://en.wikipedia.org/wiki/Demographic_history_of_New_York_City)."
   ]
  },
  {
   "cell_type": "code",
   "execution_count": null,
   "metadata": {},
   "outputs": [],
   "source": [
    "#Read data\n",
    "racial <- read.csv(\"./data/NYC_Pop.csv\")"
   ]
  },
  {
   "cell_type": "code",
   "execution_count": null,
   "metadata": {},
   "outputs": [],
   "source": [
    "#Create a plot for the total population without an x-axis label\n",
    "plot(racial$Population,type = \"o\", col = \"red\", xlab = \"Year\", ylab = \"Population\", main = \"Population over time\",xaxt = \"n\")\n",
    "# Add axis label\n",
    "axis(1, at=1:5, labels=racial$Year)\n"
   ]
  },
  {
   "cell_type": "markdown",
   "metadata": {},
   "source": [
    "It is also possible to add multiple lines to the plot using the lines() function:"
   ]
  },
  {
   "cell_type": "code",
   "execution_count": null,
   "metadata": {
    "lines_to_next_cell": 2
   },
   "outputs": [],
   "source": [
    "#Create a plot for the total population without an x-axis label\n",
    "plot((racial$White)/100000,type = \"o\", col = \"green\", xlab = \"Year\", ylab = \"Population (100k)\", main = \"Population over time\",xaxt = \"n\",ylim=c(0,max(racial$White/100000)))\n",
    "\n",
    "lines(racial$Black/100000, type = \"o\", col = \"red\")\n",
    "lines(racial$Asian/100000, type = \"o\", col = \"orange\")\n",
    "lines(racial$Hispanic_Latino/100000, type = \"o\", col = \"blue\")\n",
    "\n",
    "# Add axis label\n",
    "axis(1, at=1:5, labels=racial$Year)\n",
    "\n",
    "#Add a legend\n",
    "legend(\"topright\", c(\"White\",\"Black\",\"Asian\",\"Hispanic / Latino\"), cex=0.8, col=c(\"green\",\"red\",\"orange\",\"blue\"),pch=1, lty=1)\n"
   ]
  },
  {
   "cell_type": "markdown",
   "metadata": {},
   "source": [
    "## Basic Graphing with ggplot2\n",
    "\n",
    "The ggplot2 library provides a range of functions that make graphing and visualization of your data both visually appealing and simple to implement. There are two ways in which graphs can be created in ggplot2, the first is ggplot() which we will discuss later, and the second is qlot(), which has a simplified syntax."
   ]
  },
  {
   "cell_type": "code",
   "execution_count": null,
   "metadata": {
    "lines_to_next_cell": 2
   },
   "outputs": [],
   "source": [
    "library(ggplot2)"
   ]
  },
  {
   "cell_type": "markdown",
   "metadata": {},
   "source": [
    "### Bar Charts\n",
    "\n",
    "We can first create a bar chart using the factor column (\"target\") of the data frame object \"census\". The \"geom\" attribute is telling `qplot` what sort of plot to make. If you remember from the last practical, the target variable were wards within Liverpool where the percentage of people in good health was less than the city mean."
   ]
  },
  {
   "cell_type": "code",
   "execution_count": null,
   "metadata": {},
   "outputs": [],
   "source": [
    "qplot(target,  data=census, geom=\"bar\")"
   ]
  },
  {
   "cell_type": "markdown",
   "metadata": {},
   "source": [
    "### Histogram\n",
    "\n",
    "We can create a histogram by changing the \"geom\" and variable being plotted. Try adjusting the bin width, which alters the bins into which the values of the \"PCT_Social_Rented_Households\" column are aggregated."
   ]
  },
  {
   "cell_type": "code",
   "execution_count": null,
   "metadata": {},
   "outputs": [],
   "source": [
    "qplot(PCT_Social_Rented_Households, data=census, geom=\"histogram\",binwidth=10)"
   ]
  },
  {
   "cell_type": "markdown",
   "metadata": {},
   "source": [
    "### Scatterplot\n",
    "\n",
    "Another very common type of graph is a scatterplot which will typically plot the values of two continuous variables against one another on the x and y axis of the graph. This graph looks at the relationship between the percentage of people in socially rented housing, and those who are occupied in higher managerial roles. The default plot type is a scatterplot, so note in the next couple of examples we do not include `geom = \"point\"`, however, this could be added and would return the same result (try it!)"
   ]
  },
  {
   "cell_type": "code",
   "execution_count": null,
   "metadata": {},
   "outputs": [],
   "source": [
    "qplot(PCT_Social_Rented_Households, PCT_Higher_Managerial, data = census)"
   ]
  },
  {
   "cell_type": "markdown",
   "metadata": {},
   "source": [
    "### Adding colours or shapes\n",
    "\n",
    "In the previous graph, all the points were black, however, if we swap these out for color, we can highlight a factor variable, which in this case is the \"target\" column."
   ]
  },
  {
   "cell_type": "code",
   "execution_count": null,
   "metadata": {},
   "outputs": [],
   "source": [
    "qplot(PCT_Social_Rented_Households, PCT_Higher_Managerial, data = census,colour=target)"
   ]
  },
  {
   "cell_type": "markdown",
   "metadata": {},
   "source": [
    "Alternatively, you can also use \"shape\" to keep the points as black, but alter their shape by the factor variable."
   ]
  },
  {
   "cell_type": "code",
   "execution_count": null,
   "metadata": {},
   "outputs": [],
   "source": [
    "qplot(PCT_Social_Rented_Households, PCT_Higher_Managerial, data = census,shape=target)"
   ]
  },
  {
   "cell_type": "markdown",
   "metadata": {},
   "source": [
    "### Adding a smoothed line\n",
    "If we want to add a trend line to the plot this is also possible by adding an addition parameter to the \"geom\"."
   ]
  },
  {
   "cell_type": "code",
   "execution_count": null,
   "metadata": {},
   "outputs": [],
   "source": [
    "qplot(PCT_Social_Rented_Households, PCT_Higher_Managerial, data = census,geom = c(\"point\",\"smooth\"))"
   ]
  },
  {
   "cell_type": "markdown",
   "metadata": {},
   "source": [
    "We might also want a simpler linear regression line; which requires two further parameters including \"method\"\" and \"formula\"."
   ]
  },
  {
   "cell_type": "code",
   "execution_count": null,
   "metadata": {
    "lines_to_next_cell": 2
   },
   "outputs": [],
   "source": [
    "qplot(PCT_Social_Rented_Households, PCT_Higher_Managerial, data = census,geom = c(\"point\",\"smooth\"),method=\"lm\", formula=y~x)"
   ]
  },
  {
   "cell_type": "markdown",
   "metadata": {},
   "source": [
    "### Line Plots\n",
    "\n",
    "To illustrate how to create line plots we will read in some economic data downloaded from the [Office for National Statistics](http://www.ons.gov.uk/ons/site-information/using-the-website/time-series/index.html#2) which concerns household expenditure since 1948."
   ]
  },
  {
   "cell_type": "code",
   "execution_count": null,
   "metadata": {},
   "outputs": [],
   "source": [
    "household_ex <- read.csv(\"./data/expenditure.csv\")"
   ]
  },
  {
   "cell_type": "markdown",
   "metadata": {},
   "source": [
    "We can then have a quick look at the data and check on the data class."
   ]
  },
  {
   "cell_type": "code",
   "execution_count": null,
   "metadata": {},
   "outputs": [],
   "source": [
    "head(household_ex)\n",
    "str(household_ex)"
   ]
  },
  {
   "cell_type": "markdown",
   "metadata": {},
   "source": [
    "We can now attempt to plot the data."
   ]
  },
  {
   "cell_type": "code",
   "execution_count": null,
   "metadata": {},
   "outputs": [],
   "source": [
    "qplot(Year, Millions, data = household_ex, geom = \"line\")\n"
   ]
  },
  {
   "cell_type": "markdown",
   "metadata": {},
   "source": [
    "### Changing axis and labels\n",
    "\n",
    "On the y axis, ggplot2 has defaulted to using scientific notation. We can change this, however, we will swap to the main ggplot syntax in order to do this. The first stage is to setup the plot, telling ggplot what data to use, and which \"aesthetic mappings\" (variables!) will be passed to the plotting function. In fact aes() is a function, however never used outside of ggplot(). This is stored in a variable \"p\""
   ]
  },
  {
   "cell_type": "code",
   "execution_count": null,
   "metadata": {},
   "outputs": [],
   "source": [
    "p <- ggplot(household_ex, aes(Year, Millions))"
   ]
  },
  {
   "cell_type": "markdown",
   "metadata": {},
   "source": [
    "If you just typed \"p\" into the terminal this would return an error as you still need to tell ggplot() which type of graphical output is desired. We do this by adding additional parameters using the \"+\" symbol."
   ]
  },
  {
   "cell_type": "code",
   "execution_count": null,
   "metadata": {},
   "outputs": [],
   "source": [
    "p + geom_line()"
   ]
  },
  {
   "cell_type": "markdown",
   "metadata": {},
   "source": [
    "Swapping out the scientific notation requires another package called \"scales\". Once loaded, we can then add an additional parameter onto the graph."
   ]
  },
  {
   "cell_type": "code",
   "execution_count": null,
   "metadata": {},
   "outputs": [],
   "source": [
    "library(scales)\n",
    "p + geom_line() + scale_y_continuous(labels = comma)"
   ]
  },
  {
   "cell_type": "markdown",
   "metadata": {},
   "source": [
    "We can also change the x and y axis labels"
   ]
  },
  {
   "cell_type": "code",
   "execution_count": null,
   "metadata": {},
   "outputs": [],
   "source": [
    "# Add scale labels\n",
    "p <- p + geom_line() + scale_y_continuous(labels = comma) + labs(x=\"Years\", y=\"Millions (£)\")\n",
    "# Plot p\n",
    "p"
   ]
  },
  {
   "cell_type": "markdown",
   "metadata": {},
   "source": [
    "# Further resources / training\n",
    "\n",
    "* [ggplot2](http://docs.ggplot2.org/current/) - details and examples of many different types of plot\n",
    "* [plot.ly R examples](https://plot.ly/r/) - lots of examples and code for using R and plot.ly together\n"
   ]
  }
 ],
 "metadata": {
  "jupytext": {
   "cell_metadata_filter": "tags,warning,eval,-all",
   "main_language": "R",
   "notebook_metadata_filter": "-all"
  },
  "kernelspec": {
   "display_name": "R",
   "language": "R",
   "name": "ir"
  },
  "language_info": {
   "codemirror_mode": "r",
   "file_extension": ".r",
   "mimetype": "text/x-r-source",
   "name": "R",
   "pygments_lexer": "r",
   "version": "3.6.1"
  }
 },
 "nbformat": 4,
 "nbformat_minor": 4
}
